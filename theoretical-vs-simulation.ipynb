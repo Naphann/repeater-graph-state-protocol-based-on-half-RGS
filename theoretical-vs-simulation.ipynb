{
 "cells": [
  {
   "cell_type": "code",
   "execution_count": 13,
   "metadata": {},
   "outputs": [],
   "source": [
    "import stim\n",
    "from rgs_theoretical_model import *\n",
    "import math"
   ]
  },
  {
   "cell_type": "code",
   "execution_count": null,
   "metadata": {},
   "outputs": [],
   "source": [
    "def binom_prob(p, n, m, select='all'):\n",
    "    if select not in ['all', 'even', 'odd']:\n",
    "        raise ValueError('select mode does not support given \"{select}\".')\n",
    "    if select == 'all':\n",
    "        return math.comb(n, m) * p ** m * (1 - p) ** (n - m)\n",
    "    if select == 'odd' and m % 2 == 1:\n",
    "        return math.comb(n, m) * p ** m * (1 - p) ** (n - m)\n",
    "    if select == 'even' and m % 2 == 0:\n",
    "        return math.comb(n, m) * p ** m * (1 - p) ** (n - m)\n",
    "    return 0\n",
    "\n",
    "class RgsModel:\n",
    "    def __init__(\n",
    "        self,\n",
    "        num_hops,\n",
    "        distance_between_hop,\n",
    "        branching_parameters,\n",
    "        loss_in_db_per_km,\n",
    "        emitter_meas_error_probability,\n",
    "        inner_photon_depo_error_probability,\n",
    "        outer_photon_depo_error_probability,\n",
    "    ):\n",
    "        self.num_hops = num_hops\n",
    "        self.distance = distance_between_hop\n",
    "        self.bv = branching_parameters\n",
    "\n",
    "        attenuation_distance = 10 / (np.log(10) * loss_in_db_per_km)\n",
    "        self.p_ph = np.exp(-distance_between_hop / 2 / attenuation_distance)\n",
    "        self.n = len(self.bv)\n",
    "\n",
    "        print(f'n = {self.n}')\n",
    "\n",
    "        self.meas_err_prob = emitter_meas_error_probability\n",
    "        # should we make this 2/3 of the set value instead?\n",
    "\n",
    "        # TODO: use epsilon differently\n",
    "        # self.epsilon_inner = inner_photon_depo_error_probability\n",
    "        # self.epsilon_outer = outer_photon_depo_error_probability\n",
    "        if inner_photon_depo_error_probability != outer_photon_depo_error_probability:\n",
    "            raise ValueError(\"Currently does not support different depolarizing probability for inner and outer photons\")\n",
    "        self.epsilon = inner_photon_depo_error_probability\n",
    "\n",
    "    def exhaustive_eval_e_logical_x(self):\n",
    "        # there are 3 states for each photon; lost, no_error, has_error\n",
    "        \n",
    "\n",
    "    def r(self, k):\n",
    "        # probability of at least one indirect measurement to succeed at level k (k = 0 is logical)\n",
    "        if k >= self.n:\n",
    "            raise ValueError(f'r({k}): called with value exceeding the expected range')\n",
    "            return 0\n",
    "        return 1 - (1 - self.s(k)) ** self.bv[k]\n",
    "\n",
    "    def s(self, k):\n",
    "        # success probablity for a single indirect measurement at level k (k = 0 is logical)\n",
    "        if k == self.n - 1:\n",
    "            # second to last layer, there's only X below\n",
    "            return self.p_ph\n",
    "        if k >= self.n:\n",
    "            # we can't perform indirect measurement anymore, so the probability of success is 0\n",
    "            raise ValueError(f's({k}): called with value exceeding the expected range')\n",
    "            return 0\n",
    "        return self.p_ph * self.prob_mz(k + 2) ** self.bv[k + 1]\n",
    "\n",
    "    def prob_mz(self, k):\n",
    "        if k == self.n:\n",
    "            return self.p_ph\n",
    "        if k > self.n:\n",
    "            raise ValueError(f'prob MZ was called with k > n ({k} > {self.n})')\n",
    "        return self.p_ph + (1 - self.p_ph) * self.r(k)\n",
    "\n",
    "    def prob_indirect_success_given(self, k, mk):\n",
    "        return binom_prob(self.s(k), self.bv[k], mk)\n",
    "\n",
    "    def prob_indirect_given_meas_success(self, k):\n",
    "        return self.r(k) / self.prob_mz(k)\n",
    "\n",
    "    def e_indirect(self, k) -> float:\n",
    "        # print(f'e_indirect({k})')\n",
    "        prob = 0\n",
    "        bk = self.bv[k]\n",
    "        for mk in range(1, bk + 1):\n",
    "            prob += self.prob_indirect_success_given(k, mk) * self.e_indirect_given(k, mk)\n",
    "        return prob / self.r(k)\n",
    "\n",
    "    def e_indirect_given(self, k, mk):\n",
    "        # print(f'e_indirect_given({k}, {mk})')\n",
    "        prob = 0\n",
    "        if mk % 2 == 1:\n",
    "            for j in range((mk + 1) // 2, mk + 1):\n",
    "                prob += math.comb(mk, j) * self.e_indirect_single(k) ** j * (1 - self.e_indirect_single(k)) ** (mk - j)\n",
    "        else:\n",
    "            for j in range((mk + 1) // 2, mk):\n",
    "                prob += math.comb(mk - 1, j) * self.e_indirect_single(k) ** j * (1 - self.e_indirect_single(k)) ** (mk - 1 - j)\n",
    "        return prob\n",
    "\n",
    "    def e_indirect_single(self, k) -> float:\n",
    "        # print(f'e_indirect_single({k})')\n",
    "        if k == self.n - 1:\n",
    "            return self.epsilon\n",
    "        if k == self.n - 2:\n",
    "            return (1 - (1 - 2*self.epsilon) ** (self.bv[k+1] + 1)) / 2\n",
    "        prob = 0\n",
    "        b = self.bv[k+1]\n",
    "        for nk in range(b + 1):\n",
    "            prob += math.comb(b, nk) * self.prob_indirect_given_meas_success(k+2) ** (b - nk) * (1 - self.prob_indirect_given_meas_success(k+2)) ** nk * self.e_direct(nk, k)\n",
    "        return prob\n",
    "\n",
    "    def e_direct(self, n, k):\n",
    "        # print(f'e_indirect({n}, {k})')\n",
    "        prob = 0\n",
    "        for i in range(n + 2):\n",
    "            part1 = math.comb(n + 1, i) * self.epsilon ** i * (1 - self.epsilon) ** (n + 1 - i)\n",
    "            part2 = 0\n",
    "            for j in range(self.bv[k+1] - n + 1):\n",
    "                if i + j % 2 == 0:\n",
    "                    continue\n",
    "                part2 += math.comb(self.bv[k+1] - n, j) * self.e_indirect(k + 2) ** j * (1 - self.e_indirect(k + 2)) ** (self.bv[k+1] - n - j)\n",
    "            prob += part1 * part2\n",
    "        return prob\n",
    "\n",
    "    def e_logical_x(self):\n",
    "        return self.e_indirect(0)\n",
    "\n",
    "    def e_logical_z(self):\n",
    "        b0 = self.bv[0]\n",
    "        prob = 0\n",
    "\n",
    "        def __e(_n):\n",
    "            _prob = 0\n",
    "            for i in range(_n + 1):\n",
    "                p1 = binom_prob(self.epsilon, _n, i)\n",
    "                p2 = 0\n",
    "                for j in range(b0 - _n + 1):\n",
    "                    if (i + j) % 2 == 0:\n",
    "                        continue\n",
    "                    p2 += math.comb(b0 - _n, j) * self.e_indirect(1) ** j * (1 - self.e_indirect(1)) ** (b0 - _n - j)\n",
    "                _prob += p1 * p2\n",
    "            return _prob\n",
    "\n",
    "        for n in range(b0 + 1):\n",
    "            # prob += math.comb(b0, n) * (self.r(1) / self.prob_mz(1)) ** (b0 - n) * (1 - (self.r(1) / self.prob_mz(1))) ** n * __e(n)\n",
    "            prob += binom_prob(1 - self.prob_indirect_given_meas_success(1), n, b0) * __e(n)\n",
    "        return prob"
   ]
  },
  {
   "cell_type": "code",
   "execution_count": 15,
   "metadata": {},
   "outputs": [
    {
     "name": "stdout",
     "output_type": "stream",
     "text": [
      "n = 2\n",
      "X error: 6.367759039526903e-06\n",
      "Z error: 4.190202055653096e-53\n"
     ]
    }
   ],
   "source": [
    "model = RgsModel(1, 5, [10, 5], 0.2, 0, 0.00002, 0.00002)\n",
    "\n",
    "# model.prob_mz(0), model.prob_mz(1), model.prob_mz(2)\n",
    "# model.e_indirect(0), model.e_indirect(1)\n",
    "# model.e_indirect_single(0), model.e_indirect_single(1)\n",
    "\n",
    "# model.e_indirect_single(1)\n",
    "# model.e_indirect_given(1, 1)\n",
    "# model.e_logical_x(), model.e_logical_z()\n",
    "print(f'X error: {model.e_logical_x()}')\n",
    "print(f'Z error: {model.e_logical_z()}')\n",
    "# model.p_ph"
   ]
  },
  {
   "cell_type": "code",
   "execution_count": null,
   "metadata": {},
   "outputs": [],
   "source": []
  },
  {
   "cell_type": "code",
   "execution_count": 16,
   "metadata": {},
   "outputs": [
    {
     "data": {
      "text/plain": [
       "(0.4161139200000001, 0.41611391999999997)"
      ]
     },
     "execution_count": 16,
     "metadata": {},
     "output_type": "execute_result"
    }
   ],
   "source": [
    "bk = 7\n",
    "ep = 0.1\n",
    "\n",
    "def expand_method(bk, ep):\n",
    "    prob = 0\n",
    "    for l in range(1, bk + 2, 2):\n",
    "        prob += math.comb(bk + 1, l) * ep ** l * (1 - ep) ** (bk + 1 - l)\n",
    "    return prob\n",
    "\n",
    "def shorten_method(bk, ep):\n",
    "    return (1 - (1 - 2 * ep) ** (bk + 1)) / 2\n",
    "\n",
    "expand_method(bk, ep), shorten_method(bk, ep)\n"
   ]
  },
  {
   "cell_type": "code",
   "execution_count": 17,
   "metadata": {},
   "outputs": [
    {
     "data": {
      "text/plain": [
       "0.9120108393559098"
      ]
     },
     "execution_count": 17,
     "metadata": {},
     "output_type": "execute_result"
    }
   ],
   "source": [
    "attenuation_distance = 10 / (np.log(10) * 0.2)\n",
    "np.exp(-(2) / attenuation_distance)"
   ]
  },
  {
   "cell_type": "code",
   "execution_count": null,
   "metadata": {},
   "outputs": [],
   "source": [
    "# exhaustive calculation\n",
    "\n",
    "epsilon = 0.00002\n"
   ]
  }
 ],
 "metadata": {
  "kernelspec": {
   "display_name": "stim-env",
   "language": "python",
   "name": "python3"
  },
  "language_info": {
   "codemirror_mode": {
    "name": "ipython",
    "version": 3
   },
   "file_extension": ".py",
   "mimetype": "text/x-python",
   "name": "python",
   "nbconvert_exporter": "python",
   "pygments_lexer": "ipython3",
   "version": "3.11.7"
  }
 },
 "nbformat": 4,
 "nbformat_minor": 2
}
